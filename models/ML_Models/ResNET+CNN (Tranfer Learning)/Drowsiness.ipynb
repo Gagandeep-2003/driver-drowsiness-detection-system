{
  "nbformat": 4,
  "nbformat_minor": 0,
  "metadata": {
    "colab": {
      "provenance": [],
      "gpuType": "T4"
    },
    "kernelspec": {
      "name": "python3",
      "display_name": "Python 3"
    },
    "language_info": {
      "name": "python"
    },
    "accelerator": "GPU"
  },
  "cells": [
    {
      "cell_type": "code",
      "execution_count": 1,
      "metadata": {
        "colab": {
          "base_uri": "https://localhost:8080/"
        },
        "id": "165vZIxs7OhN",
        "outputId": "c1b4a906-8735-43f8-a1c1-1b2cb0e1ba3f"
      },
      "outputs": [
        {
          "output_type": "stream",
          "name": "stdout",
          "text": [
            "Downloading from https://www.kaggle.com/api/v1/datasets/download/akashshingha850/mrl-eye-dataset?dataset_version_number=4...\n"
          ]
        },
        {
          "output_type": "stream",
          "name": "stderr",
          "text": [
            "100%|██████████| 329M/329M [00:02<00:00, 160MB/s]"
          ]
        },
        {
          "output_type": "stream",
          "name": "stdout",
          "text": [
            "Extracting files...\n"
          ]
        },
        {
          "output_type": "stream",
          "name": "stderr",
          "text": [
            "\n"
          ]
        },
        {
          "output_type": "stream",
          "name": "stdout",
          "text": [
            "Path to dataset files: /root/.cache/kagglehub/datasets/akashshingha850/mrl-eye-dataset/versions/4\n"
          ]
        }
      ],
      "source": [
        "import kagglehub\n",
        "\n",
        "# Download latest version\n",
        "path = kagglehub.dataset_download(\"akashshingha850/mrl-eye-dataset\")\n",
        "\n",
        "print(\"Path to dataset files:\", path)"
      ]
    },
    {
      "cell_type": "code",
      "source": [
        "import os\n",
        "os.listdir(\"/root/.cache/kagglehub/datasets/akashshingha850/mrl-eye-dataset/versions/4/data/val\")"
      ],
      "metadata": {
        "id": "ENSZig9m8QdU",
        "colab": {
          "base_uri": "https://localhost:8080/"
        },
        "outputId": "9a77fdf9-0bb1-4fc8-f3d7-2248fd4ec97b"
      },
      "execution_count": 2,
      "outputs": [
        {
          "output_type": "execute_result",
          "data": {
            "text/plain": [
              "['sleepy', 'awake']"
            ]
          },
          "metadata": {},
          "execution_count": 2
        }
      ]
    },
    {
      "cell_type": "code",
      "source": [
        "train_folder_path='/root/.cache/kagglehub/datasets/akashshingha850/mrl-eye-dataset/versions/4/data/train'\n",
        "test_folder_path='/root/.cache/kagglehub/datasets/akashshingha850/mrl-eye-dataset/versions/4/data/test'\n",
        "val_folder_path=\"/root/.cache/kagglehub/datasets/akashshingha850/mrl-eye-dataset/versions/4/data/val\"\n",
        "# Device setup"
      ],
      "metadata": {
        "id": "dCvWRivkHYp_"
      },
      "execution_count": 3,
      "outputs": []
    },
    {
      "cell_type": "code",
      "source": [
        "import tensorflow as tf\n",
        "import matplotlib.pyplot as plt\n",
        "from tensorflow.keras import layers, models\n",
        "print(f\"TensorFlow version: {tf.__version__}\")\n",
        "\n",
        "# GPU Configuration for Google Colab\n",
        "def configure_gpu():\n",
        "    gpus = tf.config.experimental.list_physical_devices('GPU')\n",
        "    if gpus:\n",
        "        try:\n",
        "            for gpu in gpus:\n",
        "                tf.config.experimental.set_memory_growth(gpu, True)\n",
        "            print(f\"✅ GPU configured successfully! Available GPUs: {len(gpus)}\")\n",
        "            print(f\"GPU details: {gpus[0]}\")\n",
        "            return True\n",
        "        except RuntimeError as e:\n",
        "            print(f\"❌ GPU configuration failed: {e}\")\n",
        "            return False\n",
        "    else:\n",
        "        print(\"ℹ️ No GPU available, using CPU\")\n",
        "        return False\n",
        "gpu_available = configure_gpu()"
      ],
      "metadata": {
        "colab": {
          "base_uri": "https://localhost:8080/"
        },
        "id": "bWsXYeSNWYs_",
        "outputId": "eef97b24-ae93-44ec-8fd9-a93328222fbe"
      },
      "execution_count": 5,
      "outputs": [
        {
          "output_type": "stream",
          "name": "stdout",
          "text": [
            "TensorFlow version: 2.18.0\n",
            "✅ GPU configured successfully! Available GPUs: 1\n",
            "GPU details: PhysicalDevice(name='/physical_device:GPU:0', device_type='GPU')\n"
          ]
        }
      ]
    },
    {
      "cell_type": "code",
      "source": [
        "\n",
        "IMG_SIZE = (224, 224)\n",
        "BATCH_SIZE = 16\n",
        "EPOCHS = 5\n",
        "\n",
        "train_ds = tf.keras.utils.image_dataset_from_directory(\n",
        "    train_folder_path,\n",
        "    image_size=IMG_SIZE,\n",
        "    batch_size=BATCH_SIZE,\n",
        "    validation_split=0.2,\n",
        "    subset='training',\n",
        "    label_mode='categorical',\n",
        "    seed=42\n",
        ")\n",
        "\n",
        "val_ds = tf.keras.utils.image_dataset_from_directory(\n",
        "    val_folder_path,\n",
        "    image_size=IMG_SIZE,\n",
        "    batch_size=BATCH_SIZE,\n",
        "    validation_split=0.2,\n",
        "    subset='validation',\n",
        "    label_mode='categorical',\n",
        "    seed=42\n",
        ")\n"
      ],
      "metadata": {
        "colab": {
          "base_uri": "https://localhost:8080/"
        },
        "id": "241PAJT1MZ0v",
        "outputId": "bcc33ec3-db75-4049-e135-2a302d6bf87f"
      },
      "execution_count": 11,
      "outputs": [
        {
          "output_type": "stream",
          "name": "stdout",
          "text": [
            "Found 50937 files belonging to 2 classes.\n",
            "Using 40750 files for training.\n",
            "Found 16980 files belonging to 2 classes.\n",
            "Using 3396 files for validation.\n"
          ]
        }
      ]
    },
    {
      "cell_type": "code",
      "source": [
        "base_model = tf.keras.applications.ResNet50(\n",
        "    input_shape=IMG_SIZE + (3,),\n",
        "    include_top=False,\n",
        "    weights='imagenet'\n",
        ")\n",
        "base_model.trainable = False  #freeze base\n",
        "\n",
        "model = models.Sequential([\n",
        "    base_model,\n",
        "    layers.GlobalAveragePooling2D(),\n",
        "    layers.Dense(128, activation='relu'),\n",
        "    layers.Dropout(0.3),\n",
        "    layers.Dense(2, activation='softmax')  # classification\n",
        "])\n",
        "\n",
        "model.compile(optimizer='adam',\n",
        "              loss='binary_crossentropy',\n",
        "              metrics=['accuracy'])"
      ],
      "metadata": {
        "id": "tg3s90D8OIkV"
      },
      "execution_count": 15,
      "outputs": []
    },
    {
      "cell_type": "code",
      "source": [
        "history = model.fit(\n",
        "    train_ds,\n",
        "    validation_data=val_ds,\n",
        "    epochs=EPOCHS,\n",
        "    verbose=1\n",
        ")"
      ],
      "metadata": {
        "colab": {
          "base_uri": "https://localhost:8080/"
        },
        "id": "o5cxEgMDVBHE",
        "outputId": "7fed8812-8d9d-414a-b19c-378569cecaab"
      },
      "execution_count": 16,
      "outputs": [
        {
          "output_type": "stream",
          "name": "stdout",
          "text": [
            "Epoch 1/5\n",
            "\u001b[1m2547/2547\u001b[0m \u001b[32m━━━━━━━━━━━━━━━━━━━━\u001b[0m\u001b[37m\u001b[0m \u001b[1m140s\u001b[0m 50ms/step - accuracy: 0.9445 - loss: 0.1492 - val_accuracy: 0.9753 - val_loss: 0.0677\n",
            "Epoch 2/5\n",
            "\u001b[1m2547/2547\u001b[0m \u001b[32m━━━━━━━━━━━━━━━━━━━━\u001b[0m\u001b[37m\u001b[0m \u001b[1m118s\u001b[0m 46ms/step - accuracy: 0.9669 - loss: 0.0893 - val_accuracy: 0.9756 - val_loss: 0.0598\n",
            "Epoch 3/5\n",
            "\u001b[1m2547/2547\u001b[0m \u001b[32m━━━━━━━━━━━━━━━━━━━━\u001b[0m\u001b[37m\u001b[0m \u001b[1m143s\u001b[0m 47ms/step - accuracy: 0.9712 - loss: 0.0774 - val_accuracy: 0.9761 - val_loss: 0.0590\n",
            "Epoch 4/5\n",
            "\u001b[1m2547/2547\u001b[0m \u001b[32m━━━━━━━━━━━━━━━━━━━━\u001b[0m\u001b[37m\u001b[0m \u001b[1m144s\u001b[0m 47ms/step - accuracy: 0.9744 - loss: 0.0686 - val_accuracy: 0.9806 - val_loss: 0.0500\n",
            "Epoch 5/5\n",
            "\u001b[1m2547/2547\u001b[0m \u001b[32m━━━━━━━━━━━━━━━━━━━━\u001b[0m\u001b[37m\u001b[0m \u001b[1m139s\u001b[0m 46ms/step - accuracy: 0.9776 - loss: 0.0600 - val_accuracy: 0.9850 - val_loss: 0.0415\n"
          ]
        }
      ]
    },
    {
      "cell_type": "code",
      "source": [
        "os.mkdir('/content/saved_model')"
      ],
      "metadata": {
        "id": "YTuUHm9DbGq1"
      },
      "execution_count": 17,
      "outputs": []
    },
    {
      "cell_type": "code",
      "source": [
        "model.save('/content/saved_model/resnet.keras')"
      ],
      "metadata": {
        "id": "MiDvSrwcXDvX"
      },
      "execution_count": 19,
      "outputs": []
    },
    {
      "cell_type": "code",
      "source": [],
      "metadata": {
        "id": "Q_IZYp52bQOC"
      },
      "execution_count": null,
      "outputs": []
    }
  ]
}